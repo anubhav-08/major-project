{
 "cells": [
  {
   "cell_type": "markdown",
   "metadata": {},
   "source": [
    "# Importing Dataset"
   ]
  },
  {
   "cell_type": "code",
   "execution_count": 1,
   "metadata": {},
   "outputs": [
    {
     "name": "stderr",
     "output_type": "stream",
     "text": [
      "C:\\Users\\Tru Projects\\Anaconda3\\lib\\site-packages\\statsmodels\\tools\\_testing.py:19: FutureWarning: pandas.util.testing is deprecated. Use the functions in the public API at pandas.testing instead.\n",
      "  import pandas.util.testing as tm\n"
     ]
    }
   ],
   "source": [
    "import numpy as np \n",
    "import pandas as pd\n",
    "import seaborn as sns\n",
    "import matplotlib.pyplot as plt\n",
    "import warnings\n",
    "warnings.filterwarnings('ignore')\n",
    "from sklearn import preprocessing\n",
    "from sklearn.model_selection import train_test_split\n",
    "from sklearn.metrics import confusion_matrix, accuracy_score, classification_report\n",
    "from sklearn import metrics\n",
    "import pickle\n",
    "from sklearn import preprocessing"
   ]
  },
  {
   "cell_type": "markdown",
   "metadata": {},
   "source": [
    "# Importing Dataset"
   ]
  },
  {
   "cell_type": "code",
   "execution_count": 2,
   "metadata": {},
   "outputs": [],
   "source": [
    "data = pd.read_csv(\"ev_data.csv\" , encoding= 'unicode_escape')"
   ]
  },
  {
   "cell_type": "markdown",
   "metadata": {},
   "source": [
    "# EDA"
   ]
  },
  {
   "cell_type": "code",
   "execution_count": 3,
   "metadata": {},
   "outputs": [
    {
     "data": {
      "text/html": [
       "<div>\n",
       "<style scoped>\n",
       "    .dataframe tbody tr th:only-of-type {\n",
       "        vertical-align: middle;\n",
       "    }\n",
       "\n",
       "    .dataframe tbody tr th {\n",
       "        vertical-align: top;\n",
       "    }\n",
       "\n",
       "    .dataframe thead th {\n",
       "        text-align: right;\n",
       "    }\n",
       "</style>\n",
       "<table border=\"1\" class=\"dataframe\">\n",
       "  <thead>\n",
       "    <tr style=\"text-align: right;\">\n",
       "      <th></th>\n",
       "      <th>consumption(kWh/100km)</th>\n",
       "      <th>model</th>\n",
       "      <th>version</th>\n",
       "      <th>power(kW)</th>\n",
       "      <th>fuel_date</th>\n",
       "      <th>odometer</th>\n",
       "      <th>trip_distance(km)</th>\n",
       "      <th>quantity(kWh)</th>\n",
       "      <th>fuel_type</th>\n",
       "      <th>tire_type</th>\n",
       "      <th>city</th>\n",
       "      <th>motor_way</th>\n",
       "      <th>country_roads</th>\n",
       "      <th>driving_style</th>\n",
       "      <th>Unnamed: 14</th>\n",
       "      <th>A/C</th>\n",
       "      <th>park_heating</th>\n",
       "      <th>avg_speed(km/h)</th>\n",
       "      <th>ecr_deviation</th>\n",
       "      <th>fuel_note</th>\n",
       "    </tr>\n",
       "  </thead>\n",
       "  <tbody>\n",
       "    <tr>\n",
       "      <th>0</th>\n",
       "      <td>14.63</td>\n",
       "      <td>i-MiEV</td>\n",
       "      <td>i-MiEV</td>\n",
       "      <td>49</td>\n",
       "      <td>07.02.2019</td>\n",
       "      <td>176977</td>\n",
       "      <td>50.7</td>\n",
       "      <td>6.50</td>\n",
       "      <td>Electricity</td>\n",
       "      <td>Winter tires</td>\n",
       "      <td>1</td>\n",
       "      <td>0</td>\n",
       "      <td>1</td>\n",
       "      <td>Normal</td>\n",
       "      <td>NaN</td>\n",
       "      <td>0</td>\n",
       "      <td>0</td>\n",
       "      <td>NaN</td>\n",
       "      <td>NaN</td>\n",
       "      <td>Noch 6 Balken, 33km Reichweite, Mainova Ökostr...</td>\n",
       "    </tr>\n",
       "    <tr>\n",
       "      <th>1</th>\n",
       "      <td>14.63</td>\n",
       "      <td>i-MiEV</td>\n",
       "      <td>i-MiEV</td>\n",
       "      <td>49</td>\n",
       "      <td>06.02.2019</td>\n",
       "      <td>176926</td>\n",
       "      <td>49.9</td>\n",
       "      <td>7.30</td>\n",
       "      <td>Electricity</td>\n",
       "      <td>Winter tires</td>\n",
       "      <td>1</td>\n",
       "      <td>0</td>\n",
       "      <td>1</td>\n",
       "      <td>Normal</td>\n",
       "      <td>NaN</td>\n",
       "      <td>0</td>\n",
       "      <td>0</td>\n",
       "      <td>NaN</td>\n",
       "      <td>-0.37</td>\n",
       "      <td>Noch 5 Balken, 30km Reichweite, Mainova Ökostr...</td>\n",
       "    </tr>\n",
       "    <tr>\n",
       "      <th>2</th>\n",
       "      <td>13.79</td>\n",
       "      <td>i-MiEV</td>\n",
       "      <td>i-MiEV</td>\n",
       "      <td>49</td>\n",
       "      <td>05.02.2019</td>\n",
       "      <td>176876</td>\n",
       "      <td>51.5</td>\n",
       "      <td>7.10</td>\n",
       "      <td>Electricity</td>\n",
       "      <td>Winter tires</td>\n",
       "      <td>1</td>\n",
       "      <td>0</td>\n",
       "      <td>1</td>\n",
       "      <td>Normal</td>\n",
       "      <td>NaN</td>\n",
       "      <td>0</td>\n",
       "      <td>0</td>\n",
       "      <td>NaN</td>\n",
       "      <td>-1.21</td>\n",
       "      <td>Noch 6B, 36km RRW, Batterie 8-11°C, 9,3°C, 41,...</td>\n",
       "    </tr>\n",
       "    <tr>\n",
       "      <th>3</th>\n",
       "      <td>14.10</td>\n",
       "      <td>i-MiEV</td>\n",
       "      <td>i-MiEV</td>\n",
       "      <td>49</td>\n",
       "      <td>04.02.2019</td>\n",
       "      <td>176824</td>\n",
       "      <td>52.5</td>\n",
       "      <td>7.40</td>\n",
       "      <td>Electricity</td>\n",
       "      <td>Winter tires</td>\n",
       "      <td>1</td>\n",
       "      <td>0</td>\n",
       "      <td>1</td>\n",
       "      <td>Normal</td>\n",
       "      <td>NaN</td>\n",
       "      <td>0</td>\n",
       "      <td>0</td>\n",
       "      <td>NaN</td>\n",
       "      <td>-0.90</td>\n",
       "      <td>Noch 5 Balken, 30km Reichweite, Mainova Ökostr...</td>\n",
       "    </tr>\n",
       "    <tr>\n",
       "      <th>4</th>\n",
       "      <td>14.47</td>\n",
       "      <td>i-MiEV</td>\n",
       "      <td>i-MiEV</td>\n",
       "      <td>49</td>\n",
       "      <td>03.02.2019</td>\n",
       "      <td>176772</td>\n",
       "      <td>0.5</td>\n",
       "      <td>1.65</td>\n",
       "      <td>Electricity</td>\n",
       "      <td>Winter tires</td>\n",
       "      <td>1</td>\n",
       "      <td>0</td>\n",
       "      <td>0</td>\n",
       "      <td>Normal</td>\n",
       "      <td>NaN</td>\n",
       "      <td>0</td>\n",
       "      <td>0</td>\n",
       "      <td>NaN</td>\n",
       "      <td>-0.53</td>\n",
       "      <td>Noch 15 Balken, 75km Reichweite, 85,5%, Batter...</td>\n",
       "    </tr>\n",
       "  </tbody>\n",
       "</table>\n",
       "</div>"
      ],
      "text/plain": [
       "   consumption(kWh/100km)   model version  power(kW)   fuel_date  odometer  \\\n",
       "0                   14.63  i-MiEV  i-MiEV         49  07.02.2019    176977   \n",
       "1                   14.63  i-MiEV  i-MiEV         49  06.02.2019    176926   \n",
       "2                   13.79  i-MiEV  i-MiEV         49  05.02.2019    176876   \n",
       "3                   14.10  i-MiEV  i-MiEV         49  04.02.2019    176824   \n",
       "4                   14.47  i-MiEV  i-MiEV         49  03.02.2019    176772   \n",
       "\n",
       "   trip_distance(km)  quantity(kWh)    fuel_type     tire_type  city  \\\n",
       "0               50.7           6.50  Electricity  Winter tires     1   \n",
       "1               49.9           7.30  Electricity  Winter tires     1   \n",
       "2               51.5           7.10  Electricity  Winter tires     1   \n",
       "3               52.5           7.40  Electricity  Winter tires     1   \n",
       "4                0.5           1.65  Electricity  Winter tires     1   \n",
       "\n",
       "   motor_way  country_roads driving_style  Unnamed: 14  A/C  park_heating  \\\n",
       "0          0              1        Normal          NaN    0             0   \n",
       "1          0              1        Normal          NaN    0             0   \n",
       "2          0              1        Normal          NaN    0             0   \n",
       "3          0              1        Normal          NaN    0             0   \n",
       "4          0              0        Normal          NaN    0             0   \n",
       "\n",
       "   avg_speed(km/h)  ecr_deviation  \\\n",
       "0              NaN            NaN   \n",
       "1              NaN          -0.37   \n",
       "2              NaN          -1.21   \n",
       "3              NaN          -0.90   \n",
       "4              NaN          -0.53   \n",
       "\n",
       "                                           fuel_note  \n",
       "0  Noch 6 Balken, 33km Reichweite, Mainova Ökostr...  \n",
       "1  Noch 5 Balken, 30km Reichweite, Mainova Ökostr...  \n",
       "2  Noch 6B, 36km RRW, Batterie 8-11°C, 9,3°C, 41,...  \n",
       "3  Noch 5 Balken, 30km Reichweite, Mainova Ökostr...  \n",
       "4  Noch 15 Balken, 75km Reichweite, 85,5%, Batter...  "
      ]
     },
     "execution_count": 3,
     "metadata": {},
     "output_type": "execute_result"
    }
   ],
   "source": [
    "data.head()"
   ]
  },
  {
   "cell_type": "code",
   "execution_count": 4,
   "metadata": {},
   "outputs": [
    {
     "name": "stdout",
     "output_type": "stream",
     "text": [
      "<class 'pandas.core.frame.DataFrame'>\n",
      "RangeIndex: 1285 entries, 0 to 1284\n",
      "Data columns (total 20 columns):\n",
      " #   Column                  Non-Null Count  Dtype  \n",
      "---  ------                  --------------  -----  \n",
      " 0   consumption(kWh/100km)  1236 non-null   float64\n",
      " 1   model                   1285 non-null   object \n",
      " 2   version                 1285 non-null   object \n",
      " 3   power(kW)               1285 non-null   int64  \n",
      " 4   fuel_date               1285 non-null   object \n",
      " 5   odometer                1285 non-null   int64  \n",
      " 6   trip_distance(km)       1285 non-null   float64\n",
      " 7   quantity(kWh)           1246 non-null   float64\n",
      " 8   fuel_type               1285 non-null   object \n",
      " 9   tire_type               1285 non-null   object \n",
      " 10  city                    1285 non-null   int64  \n",
      " 11  motor_way               1285 non-null   int64  \n",
      " 12  country_roads           1285 non-null   int64  \n",
      " 13  driving_style           1285 non-null   object \n",
      " 14  Unnamed: 14             0 non-null      float64\n",
      " 15  A/C                     1285 non-null   int64  \n",
      " 16  park_heating            1285 non-null   int64  \n",
      " 17  avg_speed(km/h)         0 non-null      float64\n",
      " 18  ecr_deviation           1234 non-null   float64\n",
      " 19  fuel_note               1284 non-null   object \n",
      "dtypes: float64(6), int64(7), object(7)\n",
      "memory usage: 200.9+ KB\n"
     ]
    }
   ],
   "source": [
    "data.info()"
   ]
  },
  {
   "cell_type": "code",
   "execution_count": 5,
   "metadata": {},
   "outputs": [],
   "source": [
    "data = data.drop(['model','version','fuel_date','fuel_note','fuel_type','Unnamed: 14','avg_speed(km/h)'], axis =1)"
   ]
  },
  {
   "cell_type": "code",
   "execution_count": 6,
   "metadata": {},
   "outputs": [
    {
     "data": {
      "text/html": [
       "<div>\n",
       "<style scoped>\n",
       "    .dataframe tbody tr th:only-of-type {\n",
       "        vertical-align: middle;\n",
       "    }\n",
       "\n",
       "    .dataframe tbody tr th {\n",
       "        vertical-align: top;\n",
       "    }\n",
       "\n",
       "    .dataframe thead th {\n",
       "        text-align: right;\n",
       "    }\n",
       "</style>\n",
       "<table border=\"1\" class=\"dataframe\">\n",
       "  <thead>\n",
       "    <tr style=\"text-align: right;\">\n",
       "      <th></th>\n",
       "      <th>consumption(kWh/100km)</th>\n",
       "      <th>power(kW)</th>\n",
       "      <th>odometer</th>\n",
       "      <th>trip_distance(km)</th>\n",
       "      <th>quantity(kWh)</th>\n",
       "      <th>tire_type</th>\n",
       "      <th>city</th>\n",
       "      <th>motor_way</th>\n",
       "      <th>country_roads</th>\n",
       "      <th>driving_style</th>\n",
       "      <th>A/C</th>\n",
       "      <th>park_heating</th>\n",
       "      <th>ecr_deviation</th>\n",
       "    </tr>\n",
       "  </thead>\n",
       "  <tbody>\n",
       "    <tr>\n",
       "      <th>0</th>\n",
       "      <td>14.63</td>\n",
       "      <td>49</td>\n",
       "      <td>176977</td>\n",
       "      <td>50.7</td>\n",
       "      <td>6.50</td>\n",
       "      <td>Winter tires</td>\n",
       "      <td>1</td>\n",
       "      <td>0</td>\n",
       "      <td>1</td>\n",
       "      <td>Normal</td>\n",
       "      <td>0</td>\n",
       "      <td>0</td>\n",
       "      <td>NaN</td>\n",
       "    </tr>\n",
       "    <tr>\n",
       "      <th>1</th>\n",
       "      <td>14.63</td>\n",
       "      <td>49</td>\n",
       "      <td>176926</td>\n",
       "      <td>49.9</td>\n",
       "      <td>7.30</td>\n",
       "      <td>Winter tires</td>\n",
       "      <td>1</td>\n",
       "      <td>0</td>\n",
       "      <td>1</td>\n",
       "      <td>Normal</td>\n",
       "      <td>0</td>\n",
       "      <td>0</td>\n",
       "      <td>-0.37</td>\n",
       "    </tr>\n",
       "    <tr>\n",
       "      <th>2</th>\n",
       "      <td>13.79</td>\n",
       "      <td>49</td>\n",
       "      <td>176876</td>\n",
       "      <td>51.5</td>\n",
       "      <td>7.10</td>\n",
       "      <td>Winter tires</td>\n",
       "      <td>1</td>\n",
       "      <td>0</td>\n",
       "      <td>1</td>\n",
       "      <td>Normal</td>\n",
       "      <td>0</td>\n",
       "      <td>0</td>\n",
       "      <td>-1.21</td>\n",
       "    </tr>\n",
       "    <tr>\n",
       "      <th>3</th>\n",
       "      <td>14.10</td>\n",
       "      <td>49</td>\n",
       "      <td>176824</td>\n",
       "      <td>52.5</td>\n",
       "      <td>7.40</td>\n",
       "      <td>Winter tires</td>\n",
       "      <td>1</td>\n",
       "      <td>0</td>\n",
       "      <td>1</td>\n",
       "      <td>Normal</td>\n",
       "      <td>0</td>\n",
       "      <td>0</td>\n",
       "      <td>-0.90</td>\n",
       "    </tr>\n",
       "    <tr>\n",
       "      <th>4</th>\n",
       "      <td>14.47</td>\n",
       "      <td>49</td>\n",
       "      <td>176772</td>\n",
       "      <td>0.5</td>\n",
       "      <td>1.65</td>\n",
       "      <td>Winter tires</td>\n",
       "      <td>1</td>\n",
       "      <td>0</td>\n",
       "      <td>0</td>\n",
       "      <td>Normal</td>\n",
       "      <td>0</td>\n",
       "      <td>0</td>\n",
       "      <td>-0.53</td>\n",
       "    </tr>\n",
       "  </tbody>\n",
       "</table>\n",
       "</div>"
      ],
      "text/plain": [
       "   consumption(kWh/100km)  power(kW)  odometer  trip_distance(km)  \\\n",
       "0                   14.63         49    176977               50.7   \n",
       "1                   14.63         49    176926               49.9   \n",
       "2                   13.79         49    176876               51.5   \n",
       "3                   14.10         49    176824               52.5   \n",
       "4                   14.47         49    176772                0.5   \n",
       "\n",
       "   quantity(kWh)     tire_type  city  motor_way  country_roads driving_style  \\\n",
       "0           6.50  Winter tires     1          0              1        Normal   \n",
       "1           7.30  Winter tires     1          0              1        Normal   \n",
       "2           7.10  Winter tires     1          0              1        Normal   \n",
       "3           7.40  Winter tires     1          0              1        Normal   \n",
       "4           1.65  Winter tires     1          0              0        Normal   \n",
       "\n",
       "   A/C  park_heating  ecr_deviation  \n",
       "0    0             0            NaN  \n",
       "1    0             0          -0.37  \n",
       "2    0             0          -1.21  \n",
       "3    0             0          -0.90  \n",
       "4    0             0          -0.53  "
      ]
     },
     "execution_count": 6,
     "metadata": {},
     "output_type": "execute_result"
    }
   ],
   "source": [
    "data.head()"
   ]
  },
  {
   "cell_type": "code",
   "execution_count": 7,
   "metadata": {},
   "outputs": [
    {
     "data": {
      "text/plain": [
       "consumption(kWh/100km)    49\n",
       "power(kW)                  0\n",
       "odometer                   0\n",
       "trip_distance(km)          0\n",
       "quantity(kWh)             39\n",
       "tire_type                  0\n",
       "city                       0\n",
       "motor_way                  0\n",
       "country_roads              0\n",
       "driving_style              0\n",
       "A/C                        0\n",
       "park_heating               0\n",
       "ecr_deviation             51\n",
       "dtype: int64"
      ]
     },
     "execution_count": 7,
     "metadata": {},
     "output_type": "execute_result"
    }
   ],
   "source": [
    "data.isnull().sum()"
   ]
  },
  {
   "cell_type": "code",
   "execution_count": 8,
   "metadata": {},
   "outputs": [
    {
     "data": {
      "text/plain": [
       "array(['Winter tires', 'Summer tires'], dtype=object)"
      ]
     },
     "execution_count": 8,
     "metadata": {},
     "output_type": "execute_result"
    }
   ],
   "source": [
    "data['tire_type'].unique()"
   ]
  },
  {
   "cell_type": "code",
   "execution_count": 9,
   "metadata": {},
   "outputs": [
    {
     "data": {
      "text/plain": [
       "array(['Normal', 'Fast', 'Moderate'], dtype=object)"
      ]
     },
     "execution_count": 9,
     "metadata": {},
     "output_type": "execute_result"
    }
   ],
   "source": [
    "data['driving_style'].unique()"
   ]
  },
  {
   "cell_type": "code",
   "execution_count": 10,
   "metadata": {},
   "outputs": [],
   "source": [
    "label_encoder = preprocessing.LabelEncoder()"
   ]
  },
  {
   "cell_type": "code",
   "execution_count": 11,
   "metadata": {},
   "outputs": [],
   "source": [
    "data['tire_type']= label_encoder.fit_transform(data['tire_type'])\n",
    "data['driving_style']= label_encoder.fit_transform(data['driving_style'])"
   ]
  },
  {
   "cell_type": "code",
   "execution_count": 12,
   "metadata": {},
   "outputs": [
    {
     "data": {
      "text/html": [
       "<div>\n",
       "<style scoped>\n",
       "    .dataframe tbody tr th:only-of-type {\n",
       "        vertical-align: middle;\n",
       "    }\n",
       "\n",
       "    .dataframe tbody tr th {\n",
       "        vertical-align: top;\n",
       "    }\n",
       "\n",
       "    .dataframe thead th {\n",
       "        text-align: right;\n",
       "    }\n",
       "</style>\n",
       "<table border=\"1\" class=\"dataframe\">\n",
       "  <thead>\n",
       "    <tr style=\"text-align: right;\">\n",
       "      <th></th>\n",
       "      <th>consumption(kWh/100km)</th>\n",
       "      <th>power(kW)</th>\n",
       "      <th>odometer</th>\n",
       "      <th>trip_distance(km)</th>\n",
       "      <th>quantity(kWh)</th>\n",
       "      <th>tire_type</th>\n",
       "      <th>city</th>\n",
       "      <th>motor_way</th>\n",
       "      <th>country_roads</th>\n",
       "      <th>driving_style</th>\n",
       "      <th>A/C</th>\n",
       "      <th>park_heating</th>\n",
       "      <th>ecr_deviation</th>\n",
       "    </tr>\n",
       "  </thead>\n",
       "  <tbody>\n",
       "    <tr>\n",
       "      <th>0</th>\n",
       "      <td>14.63</td>\n",
       "      <td>49</td>\n",
       "      <td>176977</td>\n",
       "      <td>50.7</td>\n",
       "      <td>6.50</td>\n",
       "      <td>1</td>\n",
       "      <td>1</td>\n",
       "      <td>0</td>\n",
       "      <td>1</td>\n",
       "      <td>2</td>\n",
       "      <td>0</td>\n",
       "      <td>0</td>\n",
       "      <td>NaN</td>\n",
       "    </tr>\n",
       "    <tr>\n",
       "      <th>1</th>\n",
       "      <td>14.63</td>\n",
       "      <td>49</td>\n",
       "      <td>176926</td>\n",
       "      <td>49.9</td>\n",
       "      <td>7.30</td>\n",
       "      <td>1</td>\n",
       "      <td>1</td>\n",
       "      <td>0</td>\n",
       "      <td>1</td>\n",
       "      <td>2</td>\n",
       "      <td>0</td>\n",
       "      <td>0</td>\n",
       "      <td>-0.37</td>\n",
       "    </tr>\n",
       "    <tr>\n",
       "      <th>2</th>\n",
       "      <td>13.79</td>\n",
       "      <td>49</td>\n",
       "      <td>176876</td>\n",
       "      <td>51.5</td>\n",
       "      <td>7.10</td>\n",
       "      <td>1</td>\n",
       "      <td>1</td>\n",
       "      <td>0</td>\n",
       "      <td>1</td>\n",
       "      <td>2</td>\n",
       "      <td>0</td>\n",
       "      <td>0</td>\n",
       "      <td>-1.21</td>\n",
       "    </tr>\n",
       "    <tr>\n",
       "      <th>3</th>\n",
       "      <td>14.10</td>\n",
       "      <td>49</td>\n",
       "      <td>176824</td>\n",
       "      <td>52.5</td>\n",
       "      <td>7.40</td>\n",
       "      <td>1</td>\n",
       "      <td>1</td>\n",
       "      <td>0</td>\n",
       "      <td>1</td>\n",
       "      <td>2</td>\n",
       "      <td>0</td>\n",
       "      <td>0</td>\n",
       "      <td>-0.90</td>\n",
       "    </tr>\n",
       "    <tr>\n",
       "      <th>4</th>\n",
       "      <td>14.47</td>\n",
       "      <td>49</td>\n",
       "      <td>176772</td>\n",
       "      <td>0.5</td>\n",
       "      <td>1.65</td>\n",
       "      <td>1</td>\n",
       "      <td>1</td>\n",
       "      <td>0</td>\n",
       "      <td>0</td>\n",
       "      <td>2</td>\n",
       "      <td>0</td>\n",
       "      <td>0</td>\n",
       "      <td>-0.53</td>\n",
       "    </tr>\n",
       "    <tr>\n",
       "      <th>...</th>\n",
       "      <td>...</td>\n",
       "      <td>...</td>\n",
       "      <td>...</td>\n",
       "      <td>...</td>\n",
       "      <td>...</td>\n",
       "      <td>...</td>\n",
       "      <td>...</td>\n",
       "      <td>...</td>\n",
       "      <td>...</td>\n",
       "      <td>...</td>\n",
       "      <td>...</td>\n",
       "      <td>...</td>\n",
       "      <td>...</td>\n",
       "    </tr>\n",
       "    <tr>\n",
       "      <th>1280</th>\n",
       "      <td>11.96</td>\n",
       "      <td>49</td>\n",
       "      <td>115172</td>\n",
       "      <td>82.8</td>\n",
       "      <td>9.90</td>\n",
       "      <td>0</td>\n",
       "      <td>1</td>\n",
       "      <td>0</td>\n",
       "      <td>1</td>\n",
       "      <td>2</td>\n",
       "      <td>1</td>\n",
       "      <td>0</td>\n",
       "      <td>-3.04</td>\n",
       "    </tr>\n",
       "    <tr>\n",
       "      <th>1281</th>\n",
       "      <td>10.91</td>\n",
       "      <td>49</td>\n",
       "      <td>115089</td>\n",
       "      <td>12.4</td>\n",
       "      <td>5.68</td>\n",
       "      <td>0</td>\n",
       "      <td>1</td>\n",
       "      <td>0</td>\n",
       "      <td>1</td>\n",
       "      <td>2</td>\n",
       "      <td>0</td>\n",
       "      <td>0</td>\n",
       "      <td>-4.09</td>\n",
       "    </tr>\n",
       "    <tr>\n",
       "      <th>1282</th>\n",
       "      <td>10.91</td>\n",
       "      <td>49</td>\n",
       "      <td>115077</td>\n",
       "      <td>29.3</td>\n",
       "      <td>4.00</td>\n",
       "      <td>0</td>\n",
       "      <td>1</td>\n",
       "      <td>0</td>\n",
       "      <td>1</td>\n",
       "      <td>2</td>\n",
       "      <td>1</td>\n",
       "      <td>0</td>\n",
       "      <td>-4.09</td>\n",
       "    </tr>\n",
       "    <tr>\n",
       "      <th>1283</th>\n",
       "      <td>10.91</td>\n",
       "      <td>49</td>\n",
       "      <td>115048</td>\n",
       "      <td>95.2</td>\n",
       "      <td>5.25</td>\n",
       "      <td>0</td>\n",
       "      <td>0</td>\n",
       "      <td>1</td>\n",
       "      <td>1</td>\n",
       "      <td>2</td>\n",
       "      <td>1</td>\n",
       "      <td>0</td>\n",
       "      <td>-4.09</td>\n",
       "    </tr>\n",
       "    <tr>\n",
       "      <th>1284</th>\n",
       "      <td>12.64</td>\n",
       "      <td>49</td>\n",
       "      <td>114952</td>\n",
       "      <td>45.5</td>\n",
       "      <td>10.40</td>\n",
       "      <td>0</td>\n",
       "      <td>0</td>\n",
       "      <td>1</td>\n",
       "      <td>1</td>\n",
       "      <td>2</td>\n",
       "      <td>0</td>\n",
       "      <td>0</td>\n",
       "      <td>-2.36</td>\n",
       "    </tr>\n",
       "  </tbody>\n",
       "</table>\n",
       "<p>1285 rows × 13 columns</p>\n",
       "</div>"
      ],
      "text/plain": [
       "      consumption(kWh/100km)  power(kW)  odometer  trip_distance(km)  \\\n",
       "0                      14.63         49    176977               50.7   \n",
       "1                      14.63         49    176926               49.9   \n",
       "2                      13.79         49    176876               51.5   \n",
       "3                      14.10         49    176824               52.5   \n",
       "4                      14.47         49    176772                0.5   \n",
       "...                      ...        ...       ...                ...   \n",
       "1280                   11.96         49    115172               82.8   \n",
       "1281                   10.91         49    115089               12.4   \n",
       "1282                   10.91         49    115077               29.3   \n",
       "1283                   10.91         49    115048               95.2   \n",
       "1284                   12.64         49    114952               45.5   \n",
       "\n",
       "      quantity(kWh)  tire_type  city  motor_way  country_roads  driving_style  \\\n",
       "0              6.50          1     1          0              1              2   \n",
       "1              7.30          1     1          0              1              2   \n",
       "2              7.10          1     1          0              1              2   \n",
       "3              7.40          1     1          0              1              2   \n",
       "4              1.65          1     1          0              0              2   \n",
       "...             ...        ...   ...        ...            ...            ...   \n",
       "1280           9.90          0     1          0              1              2   \n",
       "1281           5.68          0     1          0              1              2   \n",
       "1282           4.00          0     1          0              1              2   \n",
       "1283           5.25          0     0          1              1              2   \n",
       "1284          10.40          0     0          1              1              2   \n",
       "\n",
       "      A/C  park_heating  ecr_deviation  \n",
       "0       0             0            NaN  \n",
       "1       0             0          -0.37  \n",
       "2       0             0          -1.21  \n",
       "3       0             0          -0.90  \n",
       "4       0             0          -0.53  \n",
       "...   ...           ...            ...  \n",
       "1280    1             0          -3.04  \n",
       "1281    0             0          -4.09  \n",
       "1282    1             0          -4.09  \n",
       "1283    1             0          -4.09  \n",
       "1284    0             0          -2.36  \n",
       "\n",
       "[1285 rows x 13 columns]"
      ]
     },
     "execution_count": 12,
     "metadata": {},
     "output_type": "execute_result"
    }
   ],
   "source": [
    "data"
   ]
  },
  {
   "cell_type": "code",
   "execution_count": 13,
   "metadata": {},
   "outputs": [
    {
     "name": "stdout",
     "output_type": "stream",
     "text": [
      "<class 'pandas.core.frame.DataFrame'>\n",
      "RangeIndex: 1285 entries, 0 to 1284\n",
      "Data columns (total 13 columns):\n",
      " #   Column                  Non-Null Count  Dtype  \n",
      "---  ------                  --------------  -----  \n",
      " 0   consumption(kWh/100km)  1236 non-null   float64\n",
      " 1   power(kW)               1285 non-null   int64  \n",
      " 2   odometer                1285 non-null   int64  \n",
      " 3   trip_distance(km)       1285 non-null   float64\n",
      " 4   quantity(kWh)           1246 non-null   float64\n",
      " 5   tire_type               1285 non-null   int32  \n",
      " 6   city                    1285 non-null   int64  \n",
      " 7   motor_way               1285 non-null   int64  \n",
      " 8   country_roads           1285 non-null   int64  \n",
      " 9   driving_style           1285 non-null   int32  \n",
      " 10  A/C                     1285 non-null   int64  \n",
      " 11  park_heating            1285 non-null   int64  \n",
      " 12  ecr_deviation           1234 non-null   float64\n",
      "dtypes: float64(4), int32(2), int64(7)\n",
      "memory usage: 120.6 KB\n"
     ]
    }
   ],
   "source": [
    "data.info()"
   ]
  },
  {
   "cell_type": "code",
   "execution_count": 14,
   "metadata": {},
   "outputs": [
    {
     "data": {
      "text/plain": [
       "consumption(kWh/100km)    49\n",
       "power(kW)                  0\n",
       "odometer                   0\n",
       "trip_distance(km)          0\n",
       "quantity(kWh)             39\n",
       "tire_type                  0\n",
       "city                       0\n",
       "motor_way                  0\n",
       "country_roads              0\n",
       "driving_style              0\n",
       "A/C                        0\n",
       "park_heating               0\n",
       "ecr_deviation             51\n",
       "dtype: int64"
      ]
     },
     "execution_count": 14,
     "metadata": {},
     "output_type": "execute_result"
    }
   ],
   "source": [
    "data.isnull().sum()"
   ]
  },
  {
   "cell_type": "code",
   "execution_count": 15,
   "metadata": {},
   "outputs": [
    {
     "data": {
      "text/html": [
       "<div>\n",
       "<style scoped>\n",
       "    .dataframe tbody tr th:only-of-type {\n",
       "        vertical-align: middle;\n",
       "    }\n",
       "\n",
       "    .dataframe tbody tr th {\n",
       "        vertical-align: top;\n",
       "    }\n",
       "\n",
       "    .dataframe thead th {\n",
       "        text-align: right;\n",
       "    }\n",
       "</style>\n",
       "<table border=\"1\" class=\"dataframe\">\n",
       "  <thead>\n",
       "    <tr style=\"text-align: right;\">\n",
       "      <th></th>\n",
       "      <th>consumption(kWh/100km)</th>\n",
       "      <th>power(kW)</th>\n",
       "      <th>odometer</th>\n",
       "      <th>trip_distance(km)</th>\n",
       "      <th>quantity(kWh)</th>\n",
       "      <th>tire_type</th>\n",
       "      <th>city</th>\n",
       "      <th>motor_way</th>\n",
       "      <th>country_roads</th>\n",
       "      <th>driving_style</th>\n",
       "      <th>A/C</th>\n",
       "      <th>park_heating</th>\n",
       "      <th>ecr_deviation</th>\n",
       "    </tr>\n",
       "  </thead>\n",
       "  <tbody>\n",
       "    <tr>\n",
       "      <th>count</th>\n",
       "      <td>1236.000000</td>\n",
       "      <td>1285.0</td>\n",
       "      <td>1285.000000</td>\n",
       "      <td>1285.000000</td>\n",
       "      <td>1246.000000</td>\n",
       "      <td>1285.000000</td>\n",
       "      <td>1285.000000</td>\n",
       "      <td>1285.000000</td>\n",
       "      <td>1285.000000</td>\n",
       "      <td>1285.000000</td>\n",
       "      <td>1285.000000</td>\n",
       "      <td>1285.000000</td>\n",
       "      <td>1234.000000</td>\n",
       "    </tr>\n",
       "    <tr>\n",
       "      <th>mean</th>\n",
       "      <td>12.612476</td>\n",
       "      <td>49.0</td>\n",
       "      <td>148212.354086</td>\n",
       "      <td>48.307549</td>\n",
       "      <td>6.042584</td>\n",
       "      <td>0.270817</td>\n",
       "      <td>0.770428</td>\n",
       "      <td>0.432685</td>\n",
       "      <td>0.868482</td>\n",
       "      <td>1.908949</td>\n",
       "      <td>0.059144</td>\n",
       "      <td>0.031907</td>\n",
       "      <td>-2.390665</td>\n",
       "    </tr>\n",
       "    <tr>\n",
       "      <th>std</th>\n",
       "      <td>1.501647</td>\n",
       "      <td>0.0</td>\n",
       "      <td>17678.496984</td>\n",
       "      <td>19.576849</td>\n",
       "      <td>2.352949</td>\n",
       "      <td>0.444555</td>\n",
       "      <td>0.420721</td>\n",
       "      <td>0.495641</td>\n",
       "      <td>0.338097</td>\n",
       "      <td>0.389051</td>\n",
       "      <td>0.235986</td>\n",
       "      <td>0.175820</td>\n",
       "      <td>1.500830</td>\n",
       "    </tr>\n",
       "    <tr>\n",
       "      <th>min</th>\n",
       "      <td>9.590000</td>\n",
       "      <td>49.0</td>\n",
       "      <td>114952.000000</td>\n",
       "      <td>0.200000</td>\n",
       "      <td>0.100000</td>\n",
       "      <td>0.000000</td>\n",
       "      <td>0.000000</td>\n",
       "      <td>0.000000</td>\n",
       "      <td>0.000000</td>\n",
       "      <td>0.000000</td>\n",
       "      <td>0.000000</td>\n",
       "      <td>0.000000</td>\n",
       "      <td>-5.410000</td>\n",
       "    </tr>\n",
       "    <tr>\n",
       "      <th>25%</th>\n",
       "      <td>11.490000</td>\n",
       "      <td>49.0</td>\n",
       "      <td>133332.000000</td>\n",
       "      <td>36.500000</td>\n",
       "      <td>4.347500</td>\n",
       "      <td>0.000000</td>\n",
       "      <td>1.000000</td>\n",
       "      <td>0.000000</td>\n",
       "      <td>1.000000</td>\n",
       "      <td>2.000000</td>\n",
       "      <td>0.000000</td>\n",
       "      <td>0.000000</td>\n",
       "      <td>-3.510000</td>\n",
       "    </tr>\n",
       "    <tr>\n",
       "      <th>50%</th>\n",
       "      <td>12.210000</td>\n",
       "      <td>49.0</td>\n",
       "      <td>149003.000000</td>\n",
       "      <td>48.900000</td>\n",
       "      <td>6.065000</td>\n",
       "      <td>0.000000</td>\n",
       "      <td>1.000000</td>\n",
       "      <td>0.000000</td>\n",
       "      <td>1.000000</td>\n",
       "      <td>2.000000</td>\n",
       "      <td>0.000000</td>\n",
       "      <td>0.000000</td>\n",
       "      <td>-2.795000</td>\n",
       "    </tr>\n",
       "    <tr>\n",
       "      <th>75%</th>\n",
       "      <td>13.750000</td>\n",
       "      <td>49.0</td>\n",
       "      <td>163672.000000</td>\n",
       "      <td>58.000000</td>\n",
       "      <td>7.500000</td>\n",
       "      <td>1.000000</td>\n",
       "      <td>1.000000</td>\n",
       "      <td>1.000000</td>\n",
       "      <td>1.000000</td>\n",
       "      <td>2.000000</td>\n",
       "      <td>0.000000</td>\n",
       "      <td>0.000000</td>\n",
       "      <td>-1.252500</td>\n",
       "    </tr>\n",
       "    <tr>\n",
       "      <th>max</th>\n",
       "      <td>18.710000</td>\n",
       "      <td>49.0</td>\n",
       "      <td>176977.000000</td>\n",
       "      <td>154.900000</td>\n",
       "      <td>13.630000</td>\n",
       "      <td>1.000000</td>\n",
       "      <td>1.000000</td>\n",
       "      <td>1.000000</td>\n",
       "      <td>1.000000</td>\n",
       "      <td>2.000000</td>\n",
       "      <td>1.000000</td>\n",
       "      <td>1.000000</td>\n",
       "      <td>3.710000</td>\n",
       "    </tr>\n",
       "  </tbody>\n",
       "</table>\n",
       "</div>"
      ],
      "text/plain": [
       "       consumption(kWh/100km)  power(kW)       odometer  trip_distance(km)  \\\n",
       "count             1236.000000     1285.0    1285.000000        1285.000000   \n",
       "mean                12.612476       49.0  148212.354086          48.307549   \n",
       "std                  1.501647        0.0   17678.496984          19.576849   \n",
       "min                  9.590000       49.0  114952.000000           0.200000   \n",
       "25%                 11.490000       49.0  133332.000000          36.500000   \n",
       "50%                 12.210000       49.0  149003.000000          48.900000   \n",
       "75%                 13.750000       49.0  163672.000000          58.000000   \n",
       "max                 18.710000       49.0  176977.000000         154.900000   \n",
       "\n",
       "       quantity(kWh)    tire_type         city    motor_way  country_roads  \\\n",
       "count    1246.000000  1285.000000  1285.000000  1285.000000    1285.000000   \n",
       "mean        6.042584     0.270817     0.770428     0.432685       0.868482   \n",
       "std         2.352949     0.444555     0.420721     0.495641       0.338097   \n",
       "min         0.100000     0.000000     0.000000     0.000000       0.000000   \n",
       "25%         4.347500     0.000000     1.000000     0.000000       1.000000   \n",
       "50%         6.065000     0.000000     1.000000     0.000000       1.000000   \n",
       "75%         7.500000     1.000000     1.000000     1.000000       1.000000   \n",
       "max        13.630000     1.000000     1.000000     1.000000       1.000000   \n",
       "\n",
       "       driving_style          A/C  park_heating  ecr_deviation  \n",
       "count    1285.000000  1285.000000   1285.000000    1234.000000  \n",
       "mean        1.908949     0.059144      0.031907      -2.390665  \n",
       "std         0.389051     0.235986      0.175820       1.500830  \n",
       "min         0.000000     0.000000      0.000000      -5.410000  \n",
       "25%         2.000000     0.000000      0.000000      -3.510000  \n",
       "50%         2.000000     0.000000      0.000000      -2.795000  \n",
       "75%         2.000000     0.000000      0.000000      -1.252500  \n",
       "max         2.000000     1.000000      1.000000       3.710000  "
      ]
     },
     "execution_count": 15,
     "metadata": {},
     "output_type": "execute_result"
    }
   ],
   "source": [
    "data.describe()"
   ]
  },
  {
   "cell_type": "code",
   "execution_count": 16,
   "metadata": {},
   "outputs": [],
   "source": [
    "data = data.dropna()"
   ]
  },
  {
   "cell_type": "code",
   "execution_count": 17,
   "metadata": {},
   "outputs": [
    {
     "data": {
      "text/plain": [
       "consumption(kWh/100km)    0\n",
       "power(kW)                 0\n",
       "odometer                  0\n",
       "trip_distance(km)         0\n",
       "quantity(kWh)             0\n",
       "tire_type                 0\n",
       "city                      0\n",
       "motor_way                 0\n",
       "country_roads             0\n",
       "driving_style             0\n",
       "A/C                       0\n",
       "park_heating              0\n",
       "ecr_deviation             0\n",
       "dtype: int64"
      ]
     },
     "execution_count": 17,
     "metadata": {},
     "output_type": "execute_result"
    }
   ],
   "source": [
    "data.isnull().sum()"
   ]
  },
  {
   "cell_type": "code",
   "execution_count": 18,
   "metadata": {},
   "outputs": [
    {
     "name": "stdout",
     "output_type": "stream",
     "text": [
      "<class 'pandas.core.frame.DataFrame'>\n",
      "Int64Index: 1234 entries, 1 to 1284\n",
      "Data columns (total 13 columns):\n",
      " #   Column                  Non-Null Count  Dtype  \n",
      "---  ------                  --------------  -----  \n",
      " 0   consumption(kWh/100km)  1234 non-null   float64\n",
      " 1   power(kW)               1234 non-null   int64  \n",
      " 2   odometer                1234 non-null   int64  \n",
      " 3   trip_distance(km)       1234 non-null   float64\n",
      " 4   quantity(kWh)           1234 non-null   float64\n",
      " 5   tire_type               1234 non-null   int32  \n",
      " 6   city                    1234 non-null   int64  \n",
      " 7   motor_way               1234 non-null   int64  \n",
      " 8   country_roads           1234 non-null   int64  \n",
      " 9   driving_style           1234 non-null   int32  \n",
      " 10  A/C                     1234 non-null   int64  \n",
      " 11  park_heating            1234 non-null   int64  \n",
      " 12  ecr_deviation           1234 non-null   float64\n",
      "dtypes: float64(4), int32(2), int64(7)\n",
      "memory usage: 125.3 KB\n"
     ]
    }
   ],
   "source": [
    "data.info()"
   ]
  },
  {
   "cell_type": "markdown",
   "metadata": {},
   "source": [
    "# Data Visualization"
   ]
  },
  {
   "cell_type": "code",
   "execution_count": 19,
   "metadata": {},
   "outputs": [
    {
     "data": {
      "image/png": "[encoded data removed]",
      "text/plain": [
       "<Figure size 1296x1296 with 2 Axes>"
      ]
     },
     "metadata": {
      "needs_background": "light"
     },
     "output_type": "display_data"
    }
   ],
   "source": [
    "corrmat = data.corr()\n",
    "plt.subplots(figsize=(18,18))\n",
    "sns.heatmap(corrmat,annot=True, square=True, vmin=0, vmax=1,cmap=\"YlGnBu\");"
   ]
  },
  {
   "cell_type": "markdown",
   "metadata": {},
   "source": [
    "# Model Building"
   ]
  },
  {
   "cell_type": "code",
   "execution_count": 20,
   "metadata": {},
   "outputs": [
    {
     "name": "stdout",
     "output_type": "stream",
     "text": [
      "ecr_deviation             1.000000\n",
      "consumption(kWh/100km)    1.000000\n",
      "tire_type                 0.740493\n",
      "city                      0.348654\n",
      "motor_way                 0.318905\n",
      "country_roads             0.287462\n",
      "park_heating              0.283602\n",
      "A/C                       0.187570\n",
      "trip_distance(km)         0.159303\n",
      "quantity(kWh)             0.131623\n",
      "driving_style             0.056321\n",
      "odometer                  0.042972\n",
      "power(kW)                      NaN\n",
      "Name: consumption(kWh/100km), dtype: float64\n"
     ]
    }
   ],
   "source": [
    "print(data.corr()[\"consumption(kWh/100km)\"].abs().sort_values(ascending=False))"
   ]
  },
  {
   "cell_type": "code",
   "execution_count": 21,
   "metadata": {},
   "outputs": [],
   "source": [
    "X = data.drop(['power(kW)', 'consumption(kWh/100km)'], axis =1 )"
   ]
  },
  {
   "cell_type": "code",
   "execution_count": 22,
   "metadata": {},
   "outputs": [],
   "source": [
    "y = data['consumption(kWh/100km)']"
   ]
  },
  {
   "cell_type": "code",
   "execution_count": 23,
   "metadata": {},
   "outputs": [],
   "source": [
    "y = round(y)"
   ]
  },
  {
   "cell_type": "code",
   "execution_count": 24,
   "metadata": {},
   "outputs": [],
   "source": [
    "from sklearn.model_selection import train_test_split\n",
    "x_train, x_test, y_train, y_test = train_test_split(X,y, test_size=0.2,random_state=500)"
   ]
  },
  {
   "cell_type": "markdown",
   "metadata": {},
   "source": [
    "# KNN"
   ]
  },
  {
   "cell_type": "code",
   "execution_count": 25,
   "metadata": {},
   "outputs": [],
   "source": [
    "from sklearn.neighbors import KNeighborsClassifier\n",
    "KNN = KNeighborsClassifier()\n",
    "KNN.fit(x_train, y_train)\n",
    "predictions = KNN.predict(x_test)\n",
    "val1 = (accuracy_score(y_test, predictions)*100)"
   ]
  },
  {
   "cell_type": "code",
   "execution_count": 26,
   "metadata": {},
   "outputs": [
    {
     "data": {
      "text/plain": [
       "56.2753036437247"
      ]
     },
     "execution_count": 26,
     "metadata": {},
     "output_type": "execute_result"
    }
   ],
   "source": [
    "val1"
   ]
  },
  {
   "cell_type": "markdown",
   "metadata": {},
   "source": [
    "# LOGISTIC REGRESSION"
   ]
  },
  {
   "cell_type": "code",
   "execution_count": 27,
   "metadata": {},
   "outputs": [],
   "source": [
    "from sklearn.linear_model import LogisticRegression\n",
    "lr = LogisticRegression(random_state=0)\n",
    "lr.fit(x_train,y_train)\n",
    "predictions = lr.predict(x_test)\n",
    "val2 = (accuracy_score(y_test, predictions)*100)"
   ]
  },
  {
   "cell_type": "code",
   "execution_count": 28,
   "metadata": {},
   "outputs": [
    {
     "data": {
      "text/plain": [
       "35.22267206477733"
      ]
     },
     "execution_count": 28,
     "metadata": {},
     "output_type": "execute_result"
    }
   ],
   "source": [
    "val2"
   ]
  },
  {
   "cell_type": "markdown",
   "metadata": {},
   "source": [
    "# Decision Tree"
   ]
  },
  {
   "cell_type": "code",
   "execution_count": 29,
   "metadata": {},
   "outputs": [],
   "source": [
    "from sklearn.tree import DecisionTreeClassifier\n",
    "DT = DecisionTreeClassifier()\n",
    "DT.fit(x_train,y_train)\n",
    "predictions = DT.predict(x_test)\n",
    "val3 = (accuracy_score(y_test, predictions)*100)"
   ]
  },
  {
   "cell_type": "code",
   "execution_count": 30,
   "metadata": {},
   "outputs": [
    {
     "data": {
      "text/plain": [
       "100.0"
      ]
     },
     "execution_count": 30,
     "metadata": {},
     "output_type": "execute_result"
    }
   ],
   "source": [
    "val3"
   ]
  },
  {
   "cell_type": "markdown",
   "metadata": {},
   "source": [
    "# Random Forest"
   ]
  },
  {
   "cell_type": "code",
   "execution_count": 31,
   "metadata": {},
   "outputs": [],
   "source": [
    "from sklearn.ensemble import RandomForestClassifier\n",
    "RF = RandomForestClassifier(max_depth=2, random_state=0)\n",
    "RF.fit(x_train,y_train)\n",
    "predictions = RF.predict(x_test)\n",
    "val4 = (accuracy_score(y_test, predictions)*100)"
   ]
  },
  {
   "cell_type": "code",
   "execution_count": 32,
   "metadata": {},
   "outputs": [
    {
     "data": {
      "text/plain": [
       "63.96761133603239"
      ]
     },
     "execution_count": 32,
     "metadata": {},
     "output_type": "execute_result"
    }
   ],
   "source": [
    "val4"
   ]
  },
  {
   "cell_type": "markdown",
   "metadata": {},
   "source": [
    "# SVM"
   ]
  },
  {
   "cell_type": "code",
   "execution_count": 33,
   "metadata": {},
   "outputs": [],
   "source": [
    "from sklearn.svm import SVC\n",
    "svm = SVC(gamma='auto')\n",
    "svm.fit(x_train,y_train)\n",
    "predictions = svm.predict(x_test)\n",
    "val5 = (accuracy_score(y_test, predictions)*100)"
   ]
  },
  {
   "cell_type": "code",
   "execution_count": 34,
   "metadata": {},
   "outputs": [
    {
     "data": {
      "text/plain": [
       "35.22267206477733"
      ]
     },
     "execution_count": 34,
     "metadata": {},
     "output_type": "execute_result"
    }
   ],
   "source": [
    "val5"
   ]
  },
  {
   "cell_type": "markdown",
   "metadata": {},
   "source": [
    "# Ensemble"
   ]
  },
  {
   "cell_type": "code",
   "execution_count": 35,
   "metadata": {},
   "outputs": [],
   "source": [
    "from sklearn.ensemble import VotingClassifier\n",
    "estimator = [] \n",
    "estimator.append(('LR', LogisticRegression(random_state=0))) \n",
    "estimator.append(('DTC', DecisionTreeClassifier())) \n",
    "vot_hard = VotingClassifier(estimators = estimator, voting ='hard')\n",
    "vot_hard.fit(x_train, y_train)\n",
    "predictions = vot_hard.predict(x_test)\n",
    "val6 = (accuracy_score(y_test, predictions)*100)"
   ]
  },
  {
   "cell_type": "code",
   "execution_count": 36,
   "metadata": {},
   "outputs": [
    {
     "data": {
      "text/plain": [
       "57.89473684210527"
      ]
     },
     "execution_count": 36,
     "metadata": {},
     "output_type": "execute_result"
    }
   ],
   "source": [
    "val6"
   ]
  },
  {
   "cell_type": "markdown",
   "metadata": {},
   "source": [
    "# Stacking Classifier"
   ]
  },
  {
   "cell_type": "code",
   "execution_count": 37,
   "metadata": {},
   "outputs": [],
   "source": [
    "from sklearn.ensemble import StackingClassifier\n",
    "from sklearn.ensemble import RandomForestClassifier\n",
    "from sklearn.svm import LinearSVC\n",
    "from sklearn.linear_model import LogisticRegression\n",
    "from sklearn.preprocessing import StandardScaler\n",
    "from sklearn.pipeline import make_pipeline"
   ]
  },
  {
   "cell_type": "code",
   "execution_count": 39,
   "metadata": {},
   "outputs": [],
   "source": [
    "estimators = [('rf', RandomForestClassifier(n_estimators=10, random_state=42)),('svr', make_pipeline(StandardScaler(),LinearSVC(random_state=42)))]"
   ]
  },
  {
   "cell_type": "code",
   "execution_count": 40,
   "metadata": {},
   "outputs": [],
   "source": [
    "clf = StackingClassifier(estimators=estimators, final_estimator=LogisticRegression())"
   ]
  },
  {
   "cell_type": "code",
   "execution_count": 42,
   "metadata": {},
   "outputs": [],
   "source": [
    "clf.fit(x_train, y_train)\n",
    "predictions = clf.predict(x_test)\n",
    "val7 = (accuracy_score(y_test, predictions)*100)"
   ]
  },
  {
   "cell_type": "code",
   "execution_count": 43,
   "metadata": {},
   "outputs": [
    {
     "data": {
      "text/plain": [
       "5.263157894736842"
      ]
     },
     "execution_count": 43,
     "metadata": {},
     "output_type": "execute_result"
    }
   ],
   "source": [
    "val7"
   ]
  },
  {
   "cell_type": "markdown",
   "metadata": {},
   "source": [
    "# Accuracy Comparison"
   ]
  },
  {
   "cell_type": "code",
   "execution_count": 44,
   "metadata": {},
   "outputs": [
    {
     "name": "stdout",
     "output_type": "stream",
     "text": [
      "[0 1 2 3 4 5 6]\n",
      "[56.2753036437247, 35.22267206477733, 100.0, 63.96761133603239, 35.22267206477733, 57.89473684210527, 5.263157894736842]\n"
     ]
    }
   ],
   "source": [
    "score = [val1,val2,val3,val4,val5,val6,val7]\n",
    "classifier = ('KNN','Logistic Regression','Decision Tree','Random Forest','SVM','Ensemble','Stacking Classifier')\n",
    "y_pos = np.arange(len(classifier))\n",
    "print(y_pos)\n",
    "print(score)"
   ]
  },
  {
   "cell_type": "code",
   "execution_count": 45,
   "metadata": {},
   "outputs": [
    {
     "data": {
      "image/png": "[encoded data removed]",
      "text/plain": [
       "<Figure size 432x288 with 1 Axes>"
      ]
     },
     "metadata": {
      "needs_background": "light"
     },
     "output_type": "display_data"
    }
   ],
   "source": [
    "import matplotlib.pyplot as plt2\n",
    "plt2.barh(y_pos, score, align='center', alpha=0.5,color='blue')\n",
    "plt2.yticks(y_pos, classifier)\n",
    "plt2.xlabel('Score')\n",
    "plt2.title('Accuracy Comparison')\n",
    "plt2.show()"
   ]
  },
  {
   "cell_type": "markdown",
   "metadata": {},
   "source": [
    "# Pickle"
   ]
  },
  {
   "cell_type": "code",
   "execution_count": 46,
   "metadata": {},
   "outputs": [],
   "source": [
    "pickle.dump(DT, open('model.pkl', 'wb'))"
   ]
  },
  {
   "cell_type": "code",
   "execution_count": 47,
   "metadata": {},
   "outputs": [
    {
     "name": "stdout",
     "output_type": "stream",
     "text": [
      "(11,)\n",
      "(1, 11)\n"
     ]
    }
   ],
   "source": [
    "s = np.array([174082,19,4,1,1,1,1,2,0,0,-2])\n",
    "print(s.shape)\n",
    "s = s.reshape(1,-1)\n",
    "print(s.shape)"
   ]
  },
  {
   "cell_type": "code",
   "execution_count": 48,
   "metadata": {},
   "outputs": [
    {
     "name": "stdout",
     "output_type": "stream",
     "text": [
      "[13.]\n"
     ]
    }
   ],
   "source": [
    "model = pickle.load(open('model.pkl', 'rb'))\n",
    "print(model.predict(s))"
   ]
  },
  {
   "cell_type": "code",
   "execution_count": null,
   "metadata": {},
   "outputs": [],
   "source": []
  }
 ],
 "metadata": {
  "kernelspec": {
   "display_name": "Python 3",
   "language": "python",
   "name": "python3"
  },
  "language_info": {
   "codemirror_mode": {
    "name": "ipython",
    "version": 3
   },
   "file_extension": ".py",
   "mimetype": "text/x-python",
   "name": "python",
   "nbconvert_exporter": "python",
   "pygments_lexer": "ipython3",
   "version": "3.7.4"
  }
 },
 "nbformat": 4,
 "nbformat_minor": 2
}
